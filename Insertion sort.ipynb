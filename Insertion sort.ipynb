{
 "cells": [
  {
   "cell_type": "markdown",
   "id": "b78f3cb1",
   "metadata": {},
   "source": [
    "# Insertion sort "
   ]
  },
  {
   "cell_type": "markdown",
   "id": "fba267f4",
   "metadata": {},
   "source": [
    "watch some tutorial ,clear concept on how insertion sort works and then code in pycharm(highly recommended)\n"
   ]
  },
  {
   "cell_type": "markdown",
   "id": "de56073a",
   "metadata": {},
   "source": [
    "TIme Complexity:-  \n",
    "Best case - O(n)  \n",
    "avearge and worst case - O(n2)"
   ]
  },
  {
   "cell_type": "code",
   "execution_count": 6,
   "id": "b56208f4",
   "metadata": {},
   "outputs": [],
   "source": [
    "def insertion_sort(element):\n",
    "    for i in range(1,len(element)):\n",
    "        anchor = element[i]\n",
    "        j= i-1\n",
    "        while j >= 0 and anchor < element[j]:\n",
    "            element[j+1]=element[j]\n",
    "            j=j-1\n",
    "        element[j+1]=anchor "
   ]
  },
  {
   "cell_type": "code",
   "execution_count": 7,
   "id": "e5551dff",
   "metadata": {},
   "outputs": [],
   "source": [
    "elements = [11,9,29,7,2,15,28]    "
   ]
  },
  {
   "cell_type": "code",
   "execution_count": 8,
   "id": "600d6874",
   "metadata": {},
   "outputs": [
    {
     "name": "stdout",
     "output_type": "stream",
     "text": [
      "[2, 7, 9, 11, 15, 28, 29]\n"
     ]
    }
   ],
   "source": [
    "insertion_sort(elements)\n",
    "print(elements)"
   ]
  },
  {
   "cell_type": "code",
   "execution_count": null,
   "id": "78d6bf9f",
   "metadata": {},
   "outputs": [],
   "source": []
  },
  {
   "cell_type": "code",
   "execution_count": null,
   "id": "dd610eaf",
   "metadata": {},
   "outputs": [],
   "source": []
  },
  {
   "cell_type": "code",
   "execution_count": null,
   "id": "dd20bd97",
   "metadata": {},
   "outputs": [],
   "source": []
  }
 ],
 "metadata": {
  "kernelspec": {
   "display_name": "Python 3",
   "language": "python",
   "name": "python3"
  },
  "language_info": {
   "codemirror_mode": {
    "name": "ipython",
    "version": 3
   },
   "file_extension": ".py",
   "mimetype": "text/x-python",
   "name": "python",
   "nbconvert_exporter": "python",
   "pygments_lexer": "ipython3",
   "version": "3.8.10"
  }
 },
 "nbformat": 4,
 "nbformat_minor": 5
}
