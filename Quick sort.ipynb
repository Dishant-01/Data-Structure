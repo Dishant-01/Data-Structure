{
 "cells": [
  {
   "cell_type": "markdown",
   "id": "dfa0c9ef",
   "metadata": {},
   "source": [
    "# Quick Sort"
   ]
  },
  {
   "cell_type": "markdown",
   "id": "6c64e049",
   "metadata": {},
   "source": [
    "Time Complexity:  \n",
    "Best and Average time compolexity - O(nlogn)  \n",
    "Worst case- O(n2)"
   ]
  },
  {
   "cell_type": "code",
   "execution_count": 6,
   "id": "7d4c58cf",
   "metadata": {},
   "outputs": [],
   "source": [
    "def quick_sort(list,left,right):\n",
    "    if left <right:\n",
    "        partition_pos =partition(list,left,right)\n",
    "        quick_sort(list,left,partition_pos-1)\n",
    "        quick_sort(list,partition_pos+1,right)\n",
    "    \n",
    "def partition(list,left,right):\n",
    "    i = left\n",
    "    j = right-1\n",
    "    pivot= list[right]\n",
    "    \n",
    "    while i<j:\n",
    "        while i < right and list[i] < pivot:\n",
    "            i+=1\n",
    "        while j > left  and list[j] >= pivot:\n",
    "            j-=1\n",
    "        if i < j:\n",
    "            list[i],list[j] =list[j],list[i]\n",
    "        \n",
    "    if list[i]> pivot:\n",
    "        list[i],list[right] = list[right],list[i]\n",
    "    return i    "
   ]
  },
  {
   "cell_type": "code",
   "execution_count": 7,
   "id": "056d999a",
   "metadata": {},
   "outputs": [],
   "source": [
    "a = [22,11,88,66.55,77,33,44]"
   ]
  },
  {
   "cell_type": "code",
   "execution_count": 8,
   "id": "a589476d",
   "metadata": {},
   "outputs": [],
   "source": [
    "quick_sort(a,0,len(a)-1)"
   ]
  },
  {
   "cell_type": "code",
   "execution_count": 9,
   "id": "ddb66060",
   "metadata": {},
   "outputs": [
    {
     "name": "stdout",
     "output_type": "stream",
     "text": [
      "[11, 22, 33, 44, 66.55, 77, 88]\n"
     ]
    }
   ],
   "source": [
    "print(a)"
   ]
  },
  {
   "cell_type": "code",
   "execution_count": null,
   "id": "a346dff3",
   "metadata": {},
   "outputs": [],
   "source": []
  },
  {
   "cell_type": "code",
   "execution_count": null,
   "id": "80fca62a",
   "metadata": {},
   "outputs": [],
   "source": []
  },
  {
   "cell_type": "code",
   "execution_count": null,
   "id": "93a7d7d4",
   "metadata": {},
   "outputs": [],
   "source": []
  },
  {
   "cell_type": "code",
   "execution_count": null,
   "id": "05ab54f6",
   "metadata": {},
   "outputs": [],
   "source": []
  },
  {
   "cell_type": "code",
   "execution_count": null,
   "id": "ea938ac7",
   "metadata": {},
   "outputs": [],
   "source": []
  },
  {
   "cell_type": "code",
   "execution_count": null,
   "id": "b2b1f766",
   "metadata": {},
   "outputs": [],
   "source": []
  },
  {
   "cell_type": "code",
   "execution_count": null,
   "id": "dfbe18c2",
   "metadata": {},
   "outputs": [],
   "source": []
  },
  {
   "cell_type": "code",
   "execution_count": null,
   "id": "09f4ae08",
   "metadata": {},
   "outputs": [],
   "source": []
  }
 ],
 "metadata": {
  "kernelspec": {
   "display_name": "Python 3",
   "language": "python",
   "name": "python3"
  },
  "language_info": {
   "codemirror_mode": {
    "name": "ipython",
    "version": 3
   },
   "file_extension": ".py",
   "mimetype": "text/x-python",
   "name": "python",
   "nbconvert_exporter": "python",
   "pygments_lexer": "ipython3",
   "version": "3.8.10"
  }
 },
 "nbformat": 4,
 "nbformat_minor": 5
}
