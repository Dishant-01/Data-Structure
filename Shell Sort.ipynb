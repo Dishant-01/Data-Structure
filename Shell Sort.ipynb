{
 "cells": [
  {
   "cell_type": "markdown",
   "id": "133c758e",
   "metadata": {},
   "source": [
    "# Shell Sort"
   ]
  },
  {
   "cell_type": "markdown",
   "id": "9c25cebe",
   "metadata": {},
   "source": [
    "Time Complexity:  \n",
    "Best case- O(nlogn)  \n",
    "Average case- depends on gap sequence  \n",
    "Worst case - O(n2)"
   ]
  },
  {
   "cell_type": "code",
   "execution_count": 1,
   "id": "7659693d",
   "metadata": {},
   "outputs": [],
   "source": [
    "def shell_sort(list):\n",
    "    n = len(list)\n",
    "    gap = n//2\n",
    "    \n",
    "    while gap>0:\n",
    "        for i in range(gap,n):\n",
    "            current  = list[i]\n",
    "            j = i\n",
    "            while j>=gap and list[j-gap] > current:\n",
    "                list[j]= list[j-gap]\n",
    "                j -= gap\n",
    "            list[j]= current\n",
    "        gap = gap//2     "
   ]
  },
  {
   "cell_type": "code",
   "execution_count": 4,
   "id": "31823c96",
   "metadata": {},
   "outputs": [],
   "source": [
    "a= [10,5,75,38,8,78,2,67]"
   ]
  },
  {
   "cell_type": "code",
   "execution_count": 5,
   "id": "76b4aa85",
   "metadata": {},
   "outputs": [
    {
     "name": "stdout",
     "output_type": "stream",
     "text": [
      "[2, 5, 8, 10, 38, 67, 75, 78]\n"
     ]
    }
   ],
   "source": [
    "shell_sort(a)\n",
    "print(a)"
   ]
  },
  {
   "cell_type": "code",
   "execution_count": null,
   "id": "48903cbf",
   "metadata": {},
   "outputs": [],
   "source": []
  }
 ],
 "metadata": {
  "kernelspec": {
   "display_name": "Python 3",
   "language": "python",
   "name": "python3"
  },
  "language_info": {
   "codemirror_mode": {
    "name": "ipython",
    "version": 3
   },
   "file_extension": ".py",
   "mimetype": "text/x-python",
   "name": "python",
   "nbconvert_exporter": "python",
   "pygments_lexer": "ipython3",
   "version": "3.8.10"
  }
 },
 "nbformat": 4,
 "nbformat_minor": 5
}
