{
 "cells": [
  {
   "cell_type": "markdown",
   "id": "59b6e96b",
   "metadata": {},
   "source": [
    "# linear search and binary search to find element in list"
   ]
  },
  {
   "cell_type": "markdown",
   "id": "2d344eeb",
   "metadata": {},
   "source": [
    "Try running the code in pycharm and debug to see how program runs"
   ]
  },
  {
   "cell_type": "code",
   "execution_count": 55,
   "id": "237a342a",
   "metadata": {},
   "outputs": [],
   "source": [
    "a= [10,6,8,3,5,7,9,2,0,1,4]"
   ]
  },
  {
   "cell_type": "code",
   "execution_count": 56,
   "id": "a76604f1",
   "metadata": {},
   "outputs": [],
   "source": [
    "def linear_search(list,element_to_find):\n",
    "    for i in list:\n",
    "        if list[i]== element_to_find:\n",
    "            return ('element found at:',i+1,'position')"
   ]
  },
  {
   "cell_type": "code",
   "execution_count": 57,
   "id": "a055fcce",
   "metadata": {},
   "outputs": [
    {
     "data": {
      "text/plain": [
       "('element found at:', 8, 'position')"
      ]
     },
     "execution_count": 57,
     "metadata": {},
     "output_type": "execute_result"
    }
   ],
   "source": [
    "linear_search(a,2)"
   ]
  },
  {
   "cell_type": "markdown",
   "id": "5976f0fe",
   "metadata": {},
   "source": [
    "watch some tutorial to see how binary search works and then code"
   ]
  },
  {
   "cell_type": "code",
   "execution_count": 58,
   "id": "e0ff4c16",
   "metadata": {},
   "outputs": [],
   "source": [
    "b=[1,2,3,4,5,6,7,8.9]\n",
    "#  0,1,2,3,4,5,6,7,8"
   ]
  },
  {
   "cell_type": "code",
   "execution_count": 59,
   "id": "37d3baf7",
   "metadata": {},
   "outputs": [],
   "source": [
    "def binary_search(list,element_to_find):\n",
    "    left = 0\n",
    "    right = len(list)-1\n",
    "    while left<=right:\n",
    "        mid_index = (left+right)//2\n",
    "        mid_number = list[mid_index]\n",
    "        \n",
    "        if mid_number == element_to_find:\n",
    "            return mid_index\n",
    "        if mid_number < element_to_find:\n",
    "            left = mid_index+1\n",
    "        else:\n",
    "            right = mid_index - 1\n",
    "    return -1            "
   ]
  },
  {
   "cell_type": "code",
   "execution_count": 60,
   "id": "d4920549",
   "metadata": {},
   "outputs": [
    {
     "data": {
      "text/plain": [
       "2"
      ]
     },
     "execution_count": 60,
     "metadata": {},
     "output_type": "execute_result"
    }
   ],
   "source": [
    "binary_search(b,3)"
   ]
  },
  {
   "cell_type": "code",
   "execution_count": 61,
   "id": "3429bb79",
   "metadata": {},
   "outputs": [],
   "source": [
    "\n",
    "def binary_search_recursive(list,element_to_find, left,right):\n",
    "    if left>right:\n",
    "        return -1\n",
    "    mid_index = (left+right)//2\n",
    "    \n",
    "    if mid_index>=len(list) or mid_index <0:\n",
    "        return -1\n",
    "    \n",
    "    mid_number= list[mid_index]\n",
    "    \n",
    "    if mid_number == element_to_find:\n",
    "        return mid_index\n",
    "    if mid_number < element_to_find:\n",
    "        left = mid_index+1\n",
    "    else:\n",
    "        right = mid_index - 1\n",
    "    return binary_search_recursive(list,element_to_find,left,right)"
   ]
  },
  {
   "cell_type": "code",
   "execution_count": 62,
   "id": "dcdf20d2",
   "metadata": {},
   "outputs": [
    {
     "data": {
      "text/plain": [
       "6"
      ]
     },
     "execution_count": 62,
     "metadata": {},
     "output_type": "execute_result"
    }
   ],
   "source": [
    "binary_search_recursive(b,7,0,9)"
   ]
  },
  {
   "cell_type": "code",
   "execution_count": null,
   "id": "9ad3ec9c",
   "metadata": {},
   "outputs": [],
   "source": []
  }
 ],
 "metadata": {
  "kernelspec": {
   "display_name": "Python 3",
   "language": "python",
   "name": "python3"
  },
  "language_info": {
   "codemirror_mode": {
    "name": "ipython",
    "version": 3
   },
   "file_extension": ".py",
   "mimetype": "text/x-python",
   "name": "python",
   "nbconvert_exporter": "python",
   "pygments_lexer": "ipython3",
   "version": "3.8.10"
  }
 },
 "nbformat": 4,
 "nbformat_minor": 5
}
