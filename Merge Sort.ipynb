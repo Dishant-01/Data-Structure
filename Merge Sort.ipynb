{
 "cells": [
  {
   "cell_type": "markdown",
   "id": "da534e54",
   "metadata": {},
   "source": [
    "# Merge Sort"
   ]
  },
  {
   "cell_type": "markdown",
   "id": "48085e46",
   "metadata": {},
   "source": [
    "watch some tutorial on how merge sort work and only then execute the code in pycharm(highly recommended) "
   ]
  },
  {
   "cell_type": "markdown",
   "id": "b370afa2",
   "metadata": {},
   "source": [
    "Time-Complexity:-  \n",
    "    Best, Average and worst case is same for all cases - O(n*logn)  \n",
    "    It is based on divide and conquer algorithm"
   ]
  },
  {
   "cell_type": "code",
   "execution_count": 23,
   "id": "1ce3cd93",
   "metadata": {},
   "outputs": [],
   "source": [
    "def merge_sort(list):\n",
    "    if len(list)<=1:\n",
    "        return\n",
    "    mid = len(list)//2\n",
    "    left = list[:mid]\n",
    "    right = list[mid:]\n",
    "    merge_sort(left)  #recursion\n",
    "    merge_sort(right) #recursion \n",
    "    \n",
    "    i=j=k=0\n",
    "    while i< len(left) and j<len(right):\n",
    "        if left[i]< right[j]:\n",
    "            list[k]= left[i]\n",
    "            i +=1\n",
    "        else:\n",
    "            list[k]= right[j]\n",
    "            j +=1\n",
    "        k +=1\n",
    "    while i< len(left):\n",
    "        list[k]= left[i]\n",
    "        i +=1\n",
    "        k +=1\n",
    "    while j<len(right):\n",
    "        list[k]= right[j]\n",
    "        j+=1\n",
    "        k+=1"
   ]
  },
  {
   "cell_type": "code",
   "execution_count": 24,
   "id": "b0d602ef",
   "metadata": {},
   "outputs": [],
   "source": [
    "a= [6,3,90,45,25,1,78,89]"
   ]
  },
  {
   "cell_type": "code",
   "execution_count": 25,
   "id": "c4b8e574",
   "metadata": {},
   "outputs": [],
   "source": [
    "merge_sort(a)"
   ]
  },
  {
   "cell_type": "code",
   "execution_count": 26,
   "id": "dc6dcd88",
   "metadata": {},
   "outputs": [
    {
     "name": "stdout",
     "output_type": "stream",
     "text": [
      "[1, 3, 6, 25, 45, 78, 89, 90]\n"
     ]
    }
   ],
   "source": [
    "print(a)"
   ]
  },
  {
   "cell_type": "markdown",
   "id": "8344fde2",
   "metadata": {},
   "source": [
    "For information:-  \n",
    "Python uses Timsort algorithm bydault to sort elements.   \n",
    "Timsort is an hybrid algorithm of merge sort and insertion sort"
   ]
  },
  {
   "cell_type": "code",
   "execution_count": null,
   "id": "74a52758",
   "metadata": {},
   "outputs": [],
   "source": []
  },
  {
   "cell_type": "code",
   "execution_count": null,
   "id": "27a0789a",
   "metadata": {},
   "outputs": [],
   "source": []
  },
  {
   "cell_type": "code",
   "execution_count": null,
   "id": "526cc002",
   "metadata": {},
   "outputs": [],
   "source": []
  }
 ],
 "metadata": {
  "kernelspec": {
   "display_name": "Python 3",
   "language": "python",
   "name": "python3"
  },
  "language_info": {
   "codemirror_mode": {
    "name": "ipython",
    "version": 3
   },
   "file_extension": ".py",
   "mimetype": "text/x-python",
   "name": "python",
   "nbconvert_exporter": "python",
   "pygments_lexer": "ipython3",
   "version": "3.8.10"
  }
 },
 "nbformat": 4,
 "nbformat_minor": 5
}
