{
 "cells": [
  {
   "cell_type": "markdown",
   "id": "d44a75e6",
   "metadata": {},
   "source": [
    "# Selection Sort"
   ]
  },
  {
   "cell_type": "markdown",
   "id": "43ef9f04",
   "metadata": {},
   "source": [
    "Before executing the code(in pycharm only) clear your concept on how selection sort works  "
   ]
  },
  {
   "cell_type": "markdown",
   "id": "d6bb547a",
   "metadata": {},
   "source": [
    "Time Complexity:-  \n",
    "Best,Average and Worst Case - O(n2)"
   ]
  },
  {
   "cell_type": "code",
   "execution_count": 27,
   "id": "692a6283",
   "metadata": {},
   "outputs": [],
   "source": [
    "def selection_sort(list):\n",
    "    n= len(list)\n",
    "    for i in range(n-1):\n",
    "        min_index=i\n",
    "        for j in range(min_index+1,n):\n",
    "            if list[j] < list[min_index]:\n",
    "                min_index =j\n",
    "                \n",
    "        if i != min_index:\n",
    "            list[i],list[min_index] = list[min_index],list[i]"
   ]
  },
  {
   "cell_type": "code",
   "execution_count": 28,
   "id": "425557dc",
   "metadata": {},
   "outputs": [],
   "source": [
    "a = [10,3,76,9,44,54,3]"
   ]
  },
  {
   "cell_type": "code",
   "execution_count": 29,
   "id": "e2372e19",
   "metadata": {},
   "outputs": [
    {
     "name": "stdout",
     "output_type": "stream",
     "text": [
      "[3, 3, 9, 10, 44, 54, 76]\n"
     ]
    }
   ],
   "source": [
    "selection_sort(a)\n",
    "print(a)"
   ]
  },
  {
   "cell_type": "code",
   "execution_count": null,
   "id": "bad5628f",
   "metadata": {},
   "outputs": [],
   "source": []
  }
 ],
 "metadata": {
  "kernelspec": {
   "display_name": "Python 3",
   "language": "python",
   "name": "python3"
  },
  "language_info": {
   "codemirror_mode": {
    "name": "ipython",
    "version": 3
   },
   "file_extension": ".py",
   "mimetype": "text/x-python",
   "name": "python",
   "nbconvert_exporter": "python",
   "pygments_lexer": "ipython3",
   "version": "3.8.10"
  }
 },
 "nbformat": 4,
 "nbformat_minor": 5
}
