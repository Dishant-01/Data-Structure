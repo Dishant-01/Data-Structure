{
 "cells": [
  {
   "cell_type": "markdown",
   "id": "0fcca540",
   "metadata": {},
   "source": [
    "# Bubble sort"
   ]
  },
  {
   "cell_type": "markdown",
   "id": "f61b17a7",
   "metadata": {},
   "source": [
    "watch some tuturial on how bubble sort works and then code in pycharm(strongly recommended) for debugging"
   ]
  },
  {
   "cell_type": "markdown",
   "id": "c55dd85b",
   "metadata": {},
   "source": [
    "Time Complexity:\n",
    "best case- O(n),  \n",
    "\n",
    "worst and average case- O(n^2)"
   ]
  },
  {
   "cell_type": "code",
   "execution_count": 12,
   "id": "4e142e42",
   "metadata": {},
   "outputs": [],
   "source": [
    "def bubble_sort(elements):\n",
    "    n= len(elements)\n",
    "    \n",
    "    for i in range(n-1):\n",
    "        swapped= False\n",
    "        for j in range(n-1-i):\n",
    "            if elements[j]>elements[j+1]:\n",
    "                elements[j],elements[j+1]=elements[j+1],elements[j]\n",
    "                swapped= True\n",
    "                \n",
    "        if not swapped:\n",
    "            break"
   ]
  },
  {
   "cell_type": "code",
   "execution_count": 2,
   "id": "f0f064fb",
   "metadata": {},
   "outputs": [],
   "source": [
    "a=[5,9,2,1,67,34,84,34]"
   ]
  },
  {
   "cell_type": "code",
   "execution_count": 16,
   "id": "cad74be2",
   "metadata": {},
   "outputs": [],
   "source": [
    "bubble_sort(a)"
   ]
  },
  {
   "cell_type": "code",
   "execution_count": 17,
   "id": "9d20d383",
   "metadata": {},
   "outputs": [
    {
     "name": "stdout",
     "output_type": "stream",
     "text": [
      "[1, 2, 5, 9, 34, 34, 67, 84]\n"
     ]
    }
   ],
   "source": [
    "print(a)"
   ]
  },
  {
   "cell_type": "code",
   "execution_count": null,
   "id": "26b306f9",
   "metadata": {},
   "outputs": [],
   "source": []
  }
 ],
 "metadata": {
  "kernelspec": {
   "display_name": "Python 3",
   "language": "python",
   "name": "python3"
  },
  "language_info": {
   "codemirror_mode": {
    "name": "ipython",
    "version": 3
   },
   "file_extension": ".py",
   "mimetype": "text/x-python",
   "name": "python",
   "nbconvert_exporter": "python",
   "pygments_lexer": "ipython3",
   "version": "3.8.10"
  }
 },
 "nbformat": 4,
 "nbformat_minor": 5
}
