{
 "cells": [
  {
   "cell_type": "markdown",
   "id": "e0b7bb90",
   "metadata": {},
   "source": [
    "# Stack"
   ]
  },
  {
   "cell_type": "code",
   "execution_count": 3,
   "id": "7d02a59e",
   "metadata": {},
   "outputs": [
    {
     "name": "stdout",
     "output_type": "stream",
     "text": [
      "1\n",
      "2\n",
      "3\n",
      "4\n"
     ]
    }
   ],
   "source": [
    "a = [1,2,3,4]\n",
    "for i in a:\n",
    "    print(i)"
   ]
  },
  {
   "cell_type": "code",
   "execution_count": 11,
   "id": "b3d64cc3",
   "metadata": {},
   "outputs": [],
   "source": [
    "from collections import deque\n",
    "s = deque()\n",
    "s.append(1)\n",
    "s.append(2)\n",
    "s.append(3)\n",
    "s.append(4)"
   ]
  },
  {
   "cell_type": "code",
   "execution_count": 12,
   "id": "13f0c9f0",
   "metadata": {},
   "outputs": [
    {
     "data": {
      "text/plain": [
       "deque([1, 2, 3, 4])"
      ]
     },
     "execution_count": 12,
     "metadata": {},
     "output_type": "execute_result"
    }
   ],
   "source": [
    "s"
   ]
  },
  {
   "cell_type": "code",
   "execution_count": 13,
   "id": "cdcb8ee8",
   "metadata": {},
   "outputs": [
    {
     "data": {
      "text/plain": [
       "4"
      ]
     },
     "execution_count": 13,
     "metadata": {},
     "output_type": "execute_result"
    }
   ],
   "source": [
    "s.pop()"
   ]
  },
  {
   "cell_type": "code",
   "execution_count": 14,
   "id": "f6377594",
   "metadata": {},
   "outputs": [
    {
     "data": {
      "text/plain": [
       "deque([1, 2, 3])"
      ]
     },
     "execution_count": 14,
     "metadata": {},
     "output_type": "execute_result"
    }
   ],
   "source": [
    "s"
   ]
  },
  {
   "cell_type": "code",
   "execution_count": 15,
   "id": "4f3ce8bd",
   "metadata": {},
   "outputs": [],
   "source": [
    "s.appendleft(5)"
   ]
  },
  {
   "cell_type": "code",
   "execution_count": 16,
   "id": "0c7d894c",
   "metadata": {},
   "outputs": [
    {
     "data": {
      "text/plain": [
       "deque([5, 1, 2, 3])"
      ]
     },
     "execution_count": 16,
     "metadata": {},
     "output_type": "execute_result"
    }
   ],
   "source": [
    "s"
   ]
  },
  {
   "cell_type": "code",
   "execution_count": 46,
   "id": "370813f3",
   "metadata": {},
   "outputs": [],
   "source": [
    "class Stack:\n",
    "    def __init__(self):\n",
    "        self.container=deque()\n",
    "    def push(self,val):\n",
    "        self.container.append(val)\n",
    "    def pop(self):\n",
    "        return self.container.pop()\n",
    "    def is_empty(self):\n",
    "        return len(self.container)==0\n",
    "    def peek(self):\n",
    "        return self.container[-1]\n",
    "    def size(self):\n",
    "        return len(self.container)"
   ]
  },
  {
   "cell_type": "code",
   "execution_count": 47,
   "id": "8d690345",
   "metadata": {},
   "outputs": [],
   "source": [
    "ab = Stack() "
   ]
  },
  {
   "cell_type": "code",
   "execution_count": 49,
   "id": "acbad467",
   "metadata": {},
   "outputs": [],
   "source": [
    "ab.push(10)"
   ]
  },
  {
   "cell_type": "code",
   "execution_count": 50,
   "id": "c4f67a1f",
   "metadata": {},
   "outputs": [],
   "source": [
    "ab.push(9)"
   ]
  },
  {
   "cell_type": "code",
   "execution_count": 51,
   "id": "2392db3c",
   "metadata": {},
   "outputs": [
    {
     "data": {
      "text/plain": [
       "9"
      ]
     },
     "execution_count": 51,
     "metadata": {},
     "output_type": "execute_result"
    }
   ],
   "source": [
    "ab.peek()"
   ]
  },
  {
   "cell_type": "code",
   "execution_count": 52,
   "id": "4c260468",
   "metadata": {},
   "outputs": [
    {
     "data": {
      "text/plain": [
       "False"
      ]
     },
     "execution_count": 52,
     "metadata": {},
     "output_type": "execute_result"
    }
   ],
   "source": [
    "ab.is_empty()"
   ]
  },
  {
   "cell_type": "code",
   "execution_count": 53,
   "id": "9814095f",
   "metadata": {},
   "outputs": [
    {
     "data": {
      "text/plain": [
       "2"
      ]
     },
     "execution_count": 53,
     "metadata": {},
     "output_type": "execute_result"
    }
   ],
   "source": [
    "ab.size()"
   ]
  },
  {
   "cell_type": "code",
   "execution_count": 54,
   "id": "df249c23",
   "metadata": {},
   "outputs": [],
   "source": [
    "ab.push(7)"
   ]
  },
  {
   "cell_type": "code",
   "execution_count": 55,
   "id": "75d513ab",
   "metadata": {},
   "outputs": [
    {
     "data": {
      "text/plain": [
       "7"
      ]
     },
     "execution_count": 55,
     "metadata": {},
     "output_type": "execute_result"
    }
   ],
   "source": [
    "ab.pop()"
   ]
  },
  {
   "cell_type": "markdown",
   "id": "62fafd44",
   "metadata": {},
   "source": [
    "### working of list"
   ]
  },
  {
   "cell_type": "code",
   "execution_count": 56,
   "id": "b4ff34c9",
   "metadata": {},
   "outputs": [],
   "source": [
    "m =[ 10,5,7,9,3,6,2,8,6,1]"
   ]
  },
  {
   "cell_type": "code",
   "execution_count": 59,
   "id": "1bf30a28",
   "metadata": {},
   "outputs": [
    {
     "data": {
      "text/plain": [
       "[10, 5, 7, 9, 3, 6, 2, 8]"
      ]
     },
     "execution_count": 59,
     "metadata": {},
     "output_type": "execute_result"
    }
   ],
   "source": [
    "m"
   ]
  },
  {
   "cell_type": "code",
   "execution_count": 60,
   "id": "9d75b293",
   "metadata": {},
   "outputs": [],
   "source": [
    "m.append(6)"
   ]
  },
  {
   "cell_type": "code",
   "execution_count": 61,
   "id": "e577684f",
   "metadata": {},
   "outputs": [
    {
     "data": {
      "text/plain": [
       "[10, 5, 7, 9, 3, 6, 2, 8, 6]"
      ]
     },
     "execution_count": 61,
     "metadata": {},
     "output_type": "execute_result"
    }
   ],
   "source": [
    "m"
   ]
  },
  {
   "cell_type": "code",
   "execution_count": 62,
   "id": "41fcca47",
   "metadata": {},
   "outputs": [
    {
     "data": {
      "text/plain": [
       "6"
      ]
     },
     "execution_count": 62,
     "metadata": {},
     "output_type": "execute_result"
    }
   ],
   "source": [
    "m.pop()"
   ]
  },
  {
   "cell_type": "markdown",
   "id": "494c21bf",
   "metadata": {},
   "source": [
    "# Queue"
   ]
  },
  {
   "cell_type": "code",
   "execution_count": 63,
   "id": "41c85d5e",
   "metadata": {},
   "outputs": [],
   "source": [
    "#list as queue\n",
    "n= []"
   ]
  },
  {
   "cell_type": "code",
   "execution_count": 66,
   "id": "cfbcfd81",
   "metadata": {},
   "outputs": [],
   "source": [
    "n.append(1)"
   ]
  },
  {
   "cell_type": "code",
   "execution_count": 69,
   "id": "d5630bf7",
   "metadata": {},
   "outputs": [],
   "source": [
    "n.insert(0,4)"
   ]
  },
  {
   "cell_type": "code",
   "execution_count": 70,
   "id": "185e588c",
   "metadata": {},
   "outputs": [],
   "source": [
    "n.insert(0,9)"
   ]
  },
  {
   "cell_type": "code",
   "execution_count": 71,
   "id": "0b6efae7",
   "metadata": {},
   "outputs": [
    {
     "data": {
      "text/plain": [
       "[9, 4, 1]"
      ]
     },
     "execution_count": 71,
     "metadata": {},
     "output_type": "execute_result"
    }
   ],
   "source": [
    "n"
   ]
  },
  {
   "cell_type": "code",
   "execution_count": 72,
   "id": "ee18b5f5",
   "metadata": {},
   "outputs": [
    {
     "data": {
      "text/plain": [
       "1"
      ]
     },
     "execution_count": 72,
     "metadata": {},
     "output_type": "execute_result"
    }
   ],
   "source": [
    "n.pop()"
   ]
  },
  {
   "cell_type": "code",
   "execution_count": 106,
   "id": "5c9926d8",
   "metadata": {},
   "outputs": [],
   "source": [
    "from collections import deque\n",
    "class Queue:\n",
    "    def __init__(self):\n",
    "        self.buffer =deque()\n",
    "    def enqueue(self,val):\n",
    "        self.buffer.appendleft(val)\n",
    "    def dequeue(self):\n",
    "        return self.buffer.pop()\n",
    "    def is_empty(self):\n",
    "        return len(self.buffer)==0\n",
    "    def size(self):\n",
    "        return len(self.buffer)\n",
    "   # def last_value(self):\n",
    "#    return self.buffer[-1]"
   ]
  },
  {
   "cell_type": "code",
   "execution_count": 107,
   "id": "28829043",
   "metadata": {},
   "outputs": [],
   "source": [
    "o = Queue()"
   ]
  },
  {
   "cell_type": "code",
   "execution_count": 108,
   "id": "4fb103d7",
   "metadata": {},
   "outputs": [],
   "source": [
    "o.enqueue(4)"
   ]
  },
  {
   "cell_type": "code",
   "execution_count": 109,
   "id": "20e0a15f",
   "metadata": {},
   "outputs": [],
   "source": [
    "o.enqueue(5)"
   ]
  },
  {
   "cell_type": "code",
   "execution_count": 110,
   "id": "0dce9f83",
   "metadata": {},
   "outputs": [],
   "source": [
    "o.enqueue(9)"
   ]
  },
  {
   "cell_type": "code",
   "execution_count": 111,
   "id": "4dcc6417",
   "metadata": {},
   "outputs": [
    {
     "data": {
      "text/plain": [
       "3"
      ]
     },
     "execution_count": 111,
     "metadata": {},
     "output_type": "execute_result"
    }
   ],
   "source": [
    "o.size()"
   ]
  },
  {
   "cell_type": "code",
   "execution_count": 113,
   "id": "a106ddeb",
   "metadata": {},
   "outputs": [
    {
     "data": {
      "text/plain": [
       "4"
      ]
     },
     "execution_count": 113,
     "metadata": {},
     "output_type": "execute_result"
    }
   ],
   "source": [
    "o.dequeue()"
   ]
  },
  {
   "cell_type": "code",
   "execution_count": 114,
   "id": "674b66c8",
   "metadata": {},
   "outputs": [
    {
     "data": {
      "text/plain": [
       "5"
      ]
     },
     "execution_count": 114,
     "metadata": {},
     "output_type": "execute_result"
    }
   ],
   "source": [
    "o.dequeue()"
   ]
  },
  {
   "cell_type": "code",
   "execution_count": 115,
   "id": "208b8b33",
   "metadata": {},
   "outputs": [
    {
     "data": {
      "text/plain": [
       "False"
      ]
     },
     "execution_count": 115,
     "metadata": {},
     "output_type": "execute_result"
    }
   ],
   "source": [
    "o.is_empty()"
   ]
  },
  {
   "cell_type": "code",
   "execution_count": null,
   "id": "aaddc53e",
   "metadata": {},
   "outputs": [],
   "source": []
  },
  {
   "cell_type": "code",
   "execution_count": null,
   "id": "737e95e9",
   "metadata": {},
   "outputs": [],
   "source": []
  },
  {
   "cell_type": "code",
   "execution_count": null,
   "id": "21ac9ccf",
   "metadata": {},
   "outputs": [],
   "source": []
  }
 ],
 "metadata": {
  "kernelspec": {
   "display_name": "Python 3",
   "language": "python",
   "name": "python3"
  },
  "language_info": {
   "codemirror_mode": {
    "name": "ipython",
    "version": 3
   },
   "file_extension": ".py",
   "mimetype": "text/x-python",
   "name": "python",
   "nbconvert_exporter": "python",
   "pygments_lexer": "ipython3",
   "version": "3.8.10"
  }
 },
 "nbformat": 4,
 "nbformat_minor": 5
}
